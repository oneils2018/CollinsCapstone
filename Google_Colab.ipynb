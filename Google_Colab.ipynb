{
  "cells": [
    {
      "cell_type": "code",
      "source": [
        "##IMPORTANT NOTES ON HOW TO USE THIS\n",
        "\n",
        "#You must create a file structor on the left as such\n",
        "\n",
        "# Test_Dat\n",
        "# |\n",
        "# |------> Cube\n",
        "# |\n",
        "# L------> Cone\n",
        "\n",
        "# You can place any number of sub-folders inside of the Test_Data folder, each folder inside will be set as a class, the class name being its folder name\n",
        "\n",
        "# If you have more then 2 classes, you have to change the num_classes variable equal to the number of classes you are going to train the model on.\n",
        "\n",
        "# These folders act as the label for whatever you place inside.\n",
        "\n",
        "#Once done, run each code block below sequentially, and then save the model by right clicking the .h file on the left and click download."
      ],
      "metadata": {
        "id": "MoOh5Wq66RgV"
      },
      "execution_count": null,
      "outputs": []
    },
    {
      "cell_type": "code",
      "execution_count": null,
      "metadata": {
        "id": "nkY0eYqw-kCH"
      },
      "outputs": [],
      "source": [
        "import tensorflow as tf\n",
        "import numpy as np\n",
        "import matplotlib.pyplot as plt\n",
        "import os\n",
        "import cv2\n",
        "from keras.preprocessing import image\n",
        "\n",
        "#Note, for whatever reason I can't comment on the code block below or it error's out.\n",
        "#The block below removes a hidden folder thats created by google colab inside the Test_Data causing the model to think there is +1 class."
      ]
    },
    {
      "cell_type": "code",
      "execution_count": null,
      "metadata": {
        "id": "XrDcocB7VoRJ"
      },
      "outputs": [],
      "source": [
        "rm -rf `find -type d -name .ipynb_checkpoints`"
      ]
    },
    {
      "cell_type": "code",
      "execution_count": null,
      "metadata": {
        "colab": {
          "base_uri": "https://localhost:8080/"
        },
        "id": "JdsmBG1VG2pN",
        "outputId": "30f91409-007b-436b-bcea-ec7097b80dd1"
      },
      "outputs": [
        {
          "output_type": "stream",
          "name": "stdout",
          "text": [
            "Found 903 files belonging to 2 classes.\n",
            "Using 723 files for training.\n"
          ]
        }
      ],
      "source": [
        "# This sets up the training data set. https://www.tensorflow.org/api_docs/python/tf/keras/utils/image_dataset_from_directory\n",
        "# The validation_split splits the data into a \"training\" and \"validation\" set that are randomly shuffled.\n",
        "# The validation_split=0.2 sets the training set to 80% of the data within the class folders, and 20% for the validation set. The set\n",
        "# validation_split data should bet set to the same number between the two sets.\n",
        "# An important variable to tweak is batch_size. Search online what this variable does, and why you would want to tweak it.\n",
        "# Note that you must have the batch size the same for the training and validation sets.\n",
        "train_ds = tf.keras.utils.image_dataset_from_directory(\n",
        "  \"Test_Data\",\n",
        "  validation_split=0.2,\n",
        "  shuffle=True,\n",
        "  subset=\"training\",\n",
        "  seed=123433,\n",
        "  image_size=(60, 60),\n",
        "  batch_size=1)"
      ]
    },
    {
      "cell_type": "code",
      "execution_count": null,
      "metadata": {
        "colab": {
          "base_uri": "https://localhost:8080/"
        },
        "id": "ZnfLnnXpHju7",
        "outputId": "9ce4871c-cb02-440e-cfca-0e7c6b63ec4b"
      },
      "outputs": [
        {
          "output_type": "stream",
          "name": "stdout",
          "text": [
            "Found 903 files belonging to 2 classes.\n",
            "Using 180 files for validation.\n"
          ]
        },
        {
          "output_type": "execute_result",
          "data": {
            "text/plain": [
              "<BatchDataset element_spec=(TensorSpec(shape=(None, 60, 60, 3), dtype=tf.float32, name=None), TensorSpec(shape=(None,), dtype=tf.int32, name=None))>"
            ]
          },
          "metadata": {},
          "execution_count": 149
        }
      ],
      "source": [
        "# This code block sets up the validation set, the set that the model's accuracy is tested on.\n",
        "val_ds = tf.keras.utils.image_dataset_from_directory(\n",
        "  \"Test_Data\",\n",
        "  validation_split=0.2,\n",
        "  shuffle=True,\n",
        "  subset=\"validation\",\n",
        "  seed=1212233,\n",
        "  image_size=(60, 60),\n",
        "  batch_size=1)\n",
        "val_ds"
      ]
    },
    {
      "cell_type": "code",
      "execution_count": null,
      "metadata": {
        "colab": {
          "base_uri": "https://localhost:8080/"
        },
        "id": "0apHqDEfHvfq",
        "outputId": "5cc8d867-da2d-427e-e1c1-de59b4a38099"
      },
      "outputs": [
        {
          "output_type": "stream",
          "name": "stdout",
          "text": [
            "['Cone', 'Cube']\n"
          ]
        }
      ],
      "source": [
        "#This just prints the class names tensorflow thinks you have. Its to double check everything is set up right, doesn't do anything useful.\n",
        "class_names = train_ds.class_names\n",
        "print(class_names)"
      ]
    },
    {
      "cell_type": "code",
      "execution_count": null,
      "metadata": {
        "id": "_JFFwe12IF2Y"
      },
      "outputs": [],
      "source": [
        "#The num_classes variable is for how many classes you are going to train. (If you change the number of classes you need to edit the python code as well. Look up the term logits to figure out how to use\n",
        "# a trained model and get data out of it)\n",
        "num_classes = 2\n",
        "\n",
        "model = tf.keras.Sequential([\n",
        "  tf.keras.layers.InputLayer(input_shape=( 60, 60, 3)),\n",
        "  tf.keras.layers.Rescaling(1./255),\n",
        "  tf.keras.layers.Conv2D(10, 2, activation='relu'),\n",
        "  tf.keras.layers.MaxPooling2D(),\n",
        "  tf.keras.layers.Dropout(0.2),\n",
        "  tf.keras.layers.Conv2D(15, 2, activation='relu'),\n",
        "  tf.keras.layers.MaxPooling2D(),\n",
        "  tf.keras.layers.Dropout(0.2),\n",
        "  tf.keras.layers.Conv2D(20, 2, activation='relu'),\n",
        "  tf.keras.layers.MaxPooling2D(),\n",
        "  tf.keras.layers.Dropout(0.2),\n",
        "  tf.keras.layers.Conv2D(40, 2, activation='relu'),\n",
        "  tf.keras.layers.MaxPooling2D(),\n",
        "  tf.keras.layers.Flatten(),\n",
        "  tf.keras.layers.Dense(10, activation='relu'),\n",
        "  tf.keras.layers.Dense(num_classes)\n",
        "])"
      ]
    },
    {
      "cell_type": "code",
      "execution_count": null,
      "metadata": {
        "id": "9Q02Lp3eIJqi"
      },
      "outputs": [],
      "source": [
        "#Compiles the model.\n",
        "model.compile(\n",
        "  optimizer=tf.keras.optimizers.Adam(learning_rate=0.0005),\n",
        "  loss=tf.losses.SparseCategoricalCrossentropy(from_logits=True),\n",
        "  metrics=['accuracy'])"
      ]
    },
    {
      "cell_type": "code",
      "execution_count": null,
      "metadata": {
        "colab": {
          "base_uri": "https://localhost:8080/"
        },
        "id": "GvCB3SwiINgu",
        "outputId": "9be86ccc-4a31-4619-a1e6-54b98679ce84"
      },
      "outputs": [
        {
          "output_type": "stream",
          "name": "stdout",
          "text": [
            "723/723 [==============================] - 3s 5ms/step - loss: 0.1632 - accuracy: 0.9308 - val_loss: 0.1196 - val_accuracy: 0.9611\n"
          ]
        },
        {
          "output_type": "execute_result",
          "data": {
            "text/plain": [
              "<keras.callbacks.History at 0x7f50b6b0da90>"
            ]
          },
          "metadata": {},
          "execution_count": 218
        }
      ],
      "source": [
        "#Trains the model. Note: if you set the epochs too high you will overtrain the data, it will\n",
        "# show a high accuracy, but when used to classify new data it will be far off.\n",
        "# Right now (with around 250 images) the sweet spot seems to be between 3 and 5 epochs.\n",
        "# The more data you have, you might be able to get away with larger epochs, especially if\n",
        "# more layers are added to the model.\n",
        "model.fit(\n",
        "  train_ds,\n",
        "  validation_data=val_ds,\n",
        "  epochs=1,\n",
        "  batch_size=1\n",
        ")"
      ]
    },
    {
      "cell_type": "code",
      "execution_count": null,
      "metadata": {
        "id": "h6M5kz7pRkTl"
      },
      "outputs": [],
      "source": [
        "#Saves the model. You still have to download the model to your computer using the file system on the left.\n",
        "model.save('Cube_Cone_Model.h5') 4s 5ms/step - loss: 0.1865 - accuracy: 0.9308 - val_loss: 0.1526 - val_accuracy: 0.9500"
      ]
    },
    {
      "cell_type": "code",
      "source": [
        "#Saves the model in a frozen state. It is much better for use with openVino's converter.\n",
        "# You can download the model by mounting your google drive to the colab and dragging the whole save_model folder into your MyDrive folder.\n",
        "# It will take forever to download from google colab.\n",
        "tf.saved_model.save(model,\"saved_model\")\n"
      ],
      "metadata": {
        "colab": {
          "base_uri": "https://localhost:8080/",
          "height": 454
        },
        "id": "AgowxDa5xJVl",
        "outputId": "083d2ca2-2229-40c9-fb6e-0764cfa6751a"
      },
      "execution_count": null,
      "outputs": [
        {
          "output_type": "error",
          "ename": "KeyboardInterrupt",
          "evalue": "ignored",
          "traceback": [
            "\u001b[0;31m---------------------------------------------------------------------------\u001b[0m",
            "\u001b[0;31mKeyboardInterrupt\u001b[0m                         Traceback (most recent call last)",
            "\u001b[0;32m/usr/local/lib/python3.7/dist-packages/zmq/backend/cython/checkrc.pxd\u001b[0m in \u001b[0;36mzmq.backend.cython.checkrc._check_rc\u001b[0;34m()\u001b[0m\n",
            "\u001b[0;31mKeyboardInterrupt\u001b[0m: "
          ]
        },
        {
          "output_type": "stream",
          "name": "stderr",
          "text": [
            "Exception ignored in: 'zmq.backend.cython.message.Frame.__dealloc__'\n",
            "Traceback (most recent call last):\n",
            "  File \"zmq/backend/cython/checkrc.pxd\", line 13, in zmq.backend.cython.checkrc._check_rc\n",
            "KeyboardInterrupt\n"
          ]
        },
        {
          "output_type": "error",
          "ename": "KeyboardInterrupt",
          "evalue": "ignored",
          "traceback": [
            "\u001b[0;31m---------------------------------------------------------------------------\u001b[0m",
            "\u001b[0;31mKeyboardInterrupt\u001b[0m                         Traceback (most recent call last)",
            "\u001b[0;32m/usr/local/lib/python3.7/dist-packages/zmq/backend/cython/checkrc.pxd\u001b[0m in \u001b[0;36mzmq.backend.cython.checkrc._check_rc\u001b[0;34m()\u001b[0m\n",
            "\u001b[0;31mKeyboardInterrupt\u001b[0m: "
          ]
        },
        {
          "output_type": "stream",
          "name": "stderr",
          "text": [
            "Exception ignored in: 'zmq.backend.cython.message.Frame.__dealloc__'\n",
            "Traceback (most recent call last):\n",
            "  File \"zmq/backend/cython/checkrc.pxd\", line 13, in zmq.backend.cython.checkrc._check_rc\n",
            "KeyboardInterrupt\n"
          ]
        },
        {
          "output_type": "stream",
          "name": "stdout",
          "text": [
            "INFO:tensorflow:Assets written to: saved_model/assets\n"
          ]
        }
      ]
    },
    {
      "cell_type": "code",
      "source": [
        "#This mounts your google drive. It will prompt you to allow access to your google drive.\n",
        "from google.colab import drive\n",
        "drive.mount('/content/gdrive')"
      ],
      "metadata": {
        "id": "U2NHRPqh5D12",
        "colab": {
          "base_uri": "https://localhost:8080/"
        },
        "outputId": "0b157ea1-90a5-423d-fd07-7ff7ae95217c"
      },
      "execution_count": null,
      "outputs": [
        {
          "output_type": "stream",
          "name": "stdout",
          "text": [
            "Mounted at /content/gdrive\n"
          ]
        }
      ]
    },
    {
      "cell_type": "code",
      "source": [
        "# This just prints the summary of the model below. Currently this model, once trained, is around 500mb.\n",
        "model.summary()"
      ],
      "metadata": {
        "id": "NlfUPZUm7LA2",
        "colab": {
          "base_uri": "https://localhost:8080/"
        },
        "outputId": "367f0f21-bfab-49f5-c7a7-546a614b6230"
      },
      "execution_count": null,
      "outputs": [
        {
          "output_type": "stream",
          "name": "stdout",
          "text": [
            "Model: \"sequential_51\"\n",
            "_________________________________________________________________\n",
            " Layer (type)                Output Shape              Param #   \n",
            "=================================================================\n",
            " rescaling_47 (Rescaling)    (None, 60, 60, 3)         0         \n",
            "                                                                 \n",
            " conv2d_185 (Conv2D)         (None, 59, 59, 10)        130       \n",
            "                                                                 \n",
            " max_pooling2d_184 (MaxPooli  (None, 29, 29, 10)       0         \n",
            " ng2D)                                                           \n",
            "                                                                 \n",
            " dropout_61 (Dropout)        (None, 29, 29, 10)        0         \n",
            "                                                                 \n",
            " conv2d_186 (Conv2D)         (None, 28, 28, 15)        615       \n",
            "                                                                 \n",
            " max_pooling2d_185 (MaxPooli  (None, 14, 14, 15)       0         \n",
            " ng2D)                                                           \n",
            "                                                                 \n",
            " dropout_62 (Dropout)        (None, 14, 14, 15)        0         \n",
            "                                                                 \n",
            " conv2d_187 (Conv2D)         (None, 13, 13, 20)        1220      \n",
            "                                                                 \n",
            " max_pooling2d_186 (MaxPooli  (None, 6, 6, 20)         0         \n",
            " ng2D)                                                           \n",
            "                                                                 \n",
            " dropout_63 (Dropout)        (None, 6, 6, 20)          0         \n",
            "                                                                 \n",
            " conv2d_188 (Conv2D)         (None, 5, 5, 40)          3240      \n",
            "                                                                 \n",
            " max_pooling2d_187 (MaxPooli  (None, 2, 2, 40)         0         \n",
            " ng2D)                                                           \n",
            "                                                                 \n",
            " flatten_48 (Flatten)        (None, 160)               0         \n",
            "                                                                 \n",
            " dense_133 (Dense)           (None, 10)                1610      \n",
            "                                                                 \n",
            " dense_134 (Dense)           (None, 2)                 22        \n",
            "                                                                 \n",
            "=================================================================\n",
            "Total params: 6,837\n",
            "Trainable params: 6,837\n",
            "Non-trainable params: 0\n",
            "_________________________________________________________________\n"
          ]
        }
      ]
    },
    {
      "cell_type": "code",
      "source": [
        "from google.colab import drive\n",
        "drive.mount('/content/gdrive')"
      ],
      "metadata": {
        "colab": {
          "base_uri": "https://localhost:8080/"
        },
        "id": "SqfTFDxX0R1x",
        "outputId": "5cad72d2-3768-4422-c0a8-72fd0e70b55c"
      },
      "execution_count": null,
      "outputs": [
        {
          "output_type": "stream",
          "name": "stdout",
          "text": [
            "Drive already mounted at /content/gdrive; to attempt to forcibly remount, call drive.mount(\"/content/gdrive\", force_remount=True).\n"
          ]
        }
      ]
    },
    {
      "cell_type": "code",
      "source": [
        "rm -rf saved_modell"
      ],
      "metadata": {
        "id": "oAc-_PsMIzFS"
      },
      "execution_count": null,
      "outputs": []
    },
    {
      "cell_type": "code",
      "source": [
        "model.summary()"
      ],
      "metadata": {
        "colab": {
          "base_uri": "https://localhost:8080/"
        },
        "id": "edLh8q7JdWoG",
        "outputId": "f167932f-7b08-4506-da85-a4a14c0b7e3e"
      },
      "execution_count": null,
      "outputs": [
        {
          "output_type": "stream",
          "name": "stdout",
          "text": [
            "Model: \"sequential\"\n",
            "_________________________________________________________________\n",
            " Layer (type)                Output Shape              Param #   \n",
            "=================================================================\n",
            " rescaling (Rescaling)       (None, 60, 60, 3)         0         \n",
            "                                                                 \n",
            " conv2d (Conv2D)             (None, 59, 59, 64)        832       \n",
            "                                                                 \n",
            " max_pooling2d (MaxPooling2D  (None, 29, 29, 64)       0         \n",
            " )                                                               \n",
            "                                                                 \n",
            " conv2d_1 (Conv2D)           (None, 28, 28, 32)        8224      \n",
            "                                                                 \n",
            " max_pooling2d_1 (MaxPooling  (None, 14, 14, 32)       0         \n",
            " 2D)                                                             \n",
            "                                                                 \n",
            " conv2d_2 (Conv2D)           (None, 13, 13, 256)       33024     \n",
            "                                                                 \n",
            " max_pooling2d_2 (MaxPooling  (None, 6, 6, 256)        0         \n",
            " 2D)                                                             \n",
            "                                                                 \n",
            " conv2d_3 (Conv2D)           (None, 5, 5, 512)         524800    \n",
            "                                                                 \n",
            " max_pooling2d_3 (MaxPooling  (None, 2, 2, 512)        0         \n",
            " 2D)                                                             \n",
            "                                                                 \n",
            " flatten (Flatten)           (None, 2048)              0         \n",
            "                                                                 \n",
            " dense (Dense)               (None, 128)               262272    \n",
            "                                                                 \n",
            " dense_1 (Dense)             (None, 2)                 258       \n",
            "                                                                 \n",
            "=================================================================\n",
            "Total params: 829,410\n",
            "Trainable params: 829,410\n",
            "Non-trainable params: 0\n",
            "_________________________________________________________________\n"
          ]
        }
      ]
    }
  ],
  "metadata": {
    "accelerator": "GPU",
    "colab": {
      "name": "Cone_Cube.ipynb",
      "provenance": [],
      "collapsed_sections": []
    },
    "kernelspec": {
      "display_name": "Python 3",
      "name": "python3"
    },
    "language_info": {
      "name": "python"
    }
  },
  "nbformat": 4,
  "nbformat_minor": 0
}